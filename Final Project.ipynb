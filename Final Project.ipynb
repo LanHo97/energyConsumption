{
 "cells": [
  {
   "cell_type": "code",
   "execution_count": null,
   "metadata": {},
   "outputs": [],
   "source": [
    "import os\n",
    "import numpy as np\n",
    "import pandas as pd\n",
    "import matplotlib.pyplot as plt\n",
    "from sklearn.linear_model import LinearRegression\n",
    "from sklearn import metrics\n",
    "from sklearn import preprocessing\n",
    "from sklearn.metrics import mean_squared_error\n",
    "from sklearn.metrics import mean_squared_log_error\n",
    "from sklearn.metrics import r2_score\n",
    "from sklearn.model_selection import train_test_split\n",
    "%matplotlib inline"
   ]
  },
  {
   "cell_type": "code",
   "execution_count": null,
   "metadata": {},
   "outputs": [],
   "source": [
    "data = pd.read_csv('energyConsumption.csv')\n",
    "data"
   ]
  },
  {
   "cell_type": "code",
   "execution_count": null,
   "metadata": {},
   "outputs": [],
   "source": [
    "data = data.values"
   ]
  },
  {
   "cell_type": "code",
   "execution_count": null,
   "metadata": {},
   "outputs": [],
   "source": [
    "X_train, X_test, y_train, y_test = train_test_split(data, y, test_size=0.2)\n",
    "X_train.shape,X_test.shape,y_train.shape,y_test.shape"
   ]
  },
  {
   "cell_type": "code",
   "execution_count": null,
   "metadata": {},
   "outputs": [],
   "source": [
    "newColumn = np.ones((data.shape[0],1))\n",
    "data = np.append(newColumn,data, axis = 1)\n",
    "data.shape"
   ]
  },
  {
   "cell_type": "code",
   "execution_count": null,
   "metadata": {},
   "outputs": [],
   "source": [
    "X = np.zeros([data.shape[0],data.shape[1]-1])\n",
    "X[:, 0] = data[:, 0]\n",
    "X[:, 1] = data[:, 1]\n",
    "X[:, 2] = data[:, 3]\n",
    "X[:, 3] = data[:, 4]\n",
    "X[:, 4] = data[:, 5]\n",
    "X[:, 5] = data[:, 6]\n",
    "X[:, 6] = data[:, 7]\n",
    "X[:, 7] = data[:, 8]\n",
    "X[:, 8] = data[:, 9]\n",
    "y = np.zeros([data.shape[0],1])\n",
    "y[:,0] = data[:, 2]\n",
    "thetas = np.zeros([1,X.shape[1]])\n",
    "X.shape, y.shape, thetas.shape"
   ]
  },
  {
   "cell_type": "code",
   "execution_count": null,
   "metadata": {},
   "outputs": [],
   "source": [
    "#Scikit learn\n",
    "X_axis = data[:,1:10]\n",
    "model = LinearRegression()\n",
    "model.fit(X_axis,y)\n",
    "pred = model.predict(X_axis)\n",
    "model.coef_, model.intercept_"
   ]
  },
  {
   "cell_type": "code",
   "execution_count": null,
   "metadata": {},
   "outputs": [],
   "source": [
    "#Cost Function\n",
    "def calcVectorizedCost(X, y, theta): \n",
    "    n = y.shape[0]\n",
    "    diff = (np.dot(X,theta.T)-y)\n",
    "    cost = 1/(2*n) * np.sum(diff**2)\n",
    "    return cost"
   ]
  },
  {
   "cell_type": "code",
   "execution_count": null,
   "metadata": {},
   "outputs": [],
   "source": [
    "calcVectorizedCost(X,y,thetas)"
   ]
  },
  {
   "cell_type": "code",
   "execution_count": null,
   "metadata": {},
   "outputs": [],
   "source": [
    "#Gradient Descent\n",
    "def gradientDescent(X, y, theta, alpha, iters):\n",
    "    n = y.shape[0]\n",
    "    for i in range (iters):\n",
    "        A = np.dot(X,theta.T)\n",
    "        theta = theta - alpha*(1/n)*np.dot(X.T, A - y).T\n",
    "    cost = calcVectorizedCost(X, y, theta)\n",
    "    return theta, cost"
   ]
  },
  {
   "cell_type": "code",
   "execution_count": null,
   "metadata": {},
   "outputs": [],
   "source": [
    "gradientDescent(X,y,thetas,0.01,0)"
   ]
  },
  {
   "cell_type": "code",
   "execution_count": null,
   "metadata": {},
   "outputs": [],
   "source": [
    "iterations = 1000000\n",
    "x_axis = list()\n",
    "y_axis = list()\n",
    "for i in range (100000,iterations,100000):\n",
    "    theta, cost= gradientDescent(X,y,thetas,0.00000007,i)\n",
    "    print(\"Cost after \" ,i, \" iterations: \" ,cost)\n",
    "    x_axis.append(i)\n",
    "    y_axis.append(cost)\n",
    "plt.plot(x_axis,y_axis, color = 'blue')\n",
    "print(theta)"
   ]
  },
  {
   "cell_type": "code",
   "execution_count": null,
   "metadata": {},
   "outputs": [],
   "source": [
    "#Linear Regression\n",
    "model = LinearRegression()\n",
    "model.fit(X_train,y_train)\n",
    "pred = model.predict(X_test)\n",
    "print(mean_squared_error(y_test, pred))\n",
    "print(mean_squared_log_error(y_test,pred))\n",
    "print(model.score(X_test, y_test))"
   ]
  },
  {
   "cell_type": "code",
   "execution_count": null,
   "metadata": {},
   "outputs": [],
   "source": [
    "#SVR\n"
   ]
  }
 ],
 "metadata": {
  "kernelspec": {
   "display_name": "Python 3",
   "language": "python",
   "name": "python3"
  },
  "language_info": {
   "codemirror_mode": {
    "name": "ipython",
    "version": 3
   },
   "file_extension": ".py",
   "mimetype": "text/x-python",
   "name": "python",
   "nbconvert_exporter": "python",
   "pygments_lexer": "ipython3",
   "version": "3.6.5"
  }
 },
 "nbformat": 4,
 "nbformat_minor": 2
}
